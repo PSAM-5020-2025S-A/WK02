{
 "cells": [
  {
   "cell_type": "code",
   "execution_count": 15,
   "metadata": {},
   "outputs": [],
   "source": [
    "import random\n",
    "import string\n",
    "\n",
    "from matplotlib import pyplot as plt"
   ]
  },
  {
   "cell_type": "code",
   "execution_count": null,
   "metadata": {},
   "outputs": [],
   "source": [
    "data = []\n",
    "\n",
    "for cnt in range(1000):\n",
    "    id_let = random.choices(string.ascii_lowercase, k=3)\n",
    "    id_num = random.choices(string.digits, k=4)\n",
    "    id_str = \"\".join(id_let + id_num)\n",
    "    data.append({\n",
    "        \"id\": id_str,\n",
    "        \"zip\": random.randint(10001, 11250),\n",
    "        \"grades\": [random.gauss(80, 5) for g in range(5)],\n",
    "        \"attendance\": random.choices([True, True, True, True, True, False], k=15)\n",
    "    })"
   ]
  },
  {
   "cell_type": "code",
   "execution_count": null,
   "metadata": {},
   "outputs": [],
   "source": [
    "len(data), data[0].keys()"
   ]
  },
  {
   "cell_type": "code",
   "execution_count": null,
   "metadata": {},
   "outputs": [],
   "source": [
    "data[0]"
   ]
  },
  {
   "cell_type": "code",
   "execution_count": null,
   "metadata": {},
   "outputs": [],
   "source": [
    "all_grades_0 = []\n",
    "all_zips = []\n",
    "all_avg_attendances = []\n",
    "\n",
    "for d in data:\n",
    "    all_grades_0.append(d[\"grades\"][0])\n",
    "    all_zips.append(d[\"zip\"])\n",
    "    all_avg_attendances.append(sum(d[\"attendance\"]) / len(d[\"attendance\"]))\n",
    "\n",
    "plt.plot(all_avg_attendances, all_grades_0, 'o')\n",
    "plt.show()"
   ]
  },
  {
   "cell_type": "code",
   "execution_count": null,
   "metadata": {},
   "outputs": [],
   "source": [
    "plt.hist(all_avg_attendances, bins=8)\n",
    "plt.show()"
   ]
  }
 ],
 "metadata": {
  "kernelspec": {
   "display_name": "Python 3",
   "language": "python",
   "name": "python3"
  },
  "language_info": {
   "codemirror_mode": {
    "name": "ipython",
    "version": 3
   },
   "file_extension": ".py",
   "mimetype": "text/x-python",
   "name": "python",
   "nbconvert_exporter": "python",
   "pygments_lexer": "ipython3",
   "version": "3.10.16"
  }
 },
 "nbformat": 4,
 "nbformat_minor": 2
}
